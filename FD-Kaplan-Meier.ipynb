{
 "cells": [
  {
   "cell_type": "code",
   "execution_count": 1,
   "id": "based-taiwan",
   "metadata": {},
   "outputs": [],
   "source": [
    "import numpy as np\n",
    "import matplotlib.pyplot as plt\n",
    "import pandas as pd\n",
    "import sys\n",
    "import math\n",
    "\n",
    "from pycox.datasets import metabric, gbsg, support\n",
    "from lifelines import KaplanMeierFitter\n",
    "import scipy.fft as fft\n",
    "\n",
    "#local scripts\n",
    "import preprocessing as pp\n",
    "import centralizedDP as cdp\n",
    "import federatedKM as fdk\n",
    "import helpers as h\n",
    "import evaluation.evaluation as ev\n",
    "import evaluation.plots as plots"
   ]
  },
  {
   "cell_type": "code",
   "execution_count": 2,
   "id": "contemporary-description",
   "metadata": {},
   "outputs": [],
   "source": [
    "import os\n",
    "os.environ[\"CUDA_VISIBLE_DEVICES\"]=\"\""
   ]
  },
  {
   "cell_type": "code",
   "execution_count": 3,
   "id": "correct-performance",
   "metadata": {},
   "outputs": [],
   "source": [
    "np.random.seed(1234)"
   ]
  },
  {
   "cell_type": "code",
   "execution_count": 4,
   "id": "f7e5a862-df3a-42ee-b03c-865bf6947f7a",
   "metadata": {},
   "outputs": [],
   "source": [
    "# plt.step(bins, y[:-1], label=\"original\")\n",
    "# plt.step(bins, noisy_y[:-1], label=\"w noise\")\n",
    "# plt.show()"
   ]
  },
  {
   "cell_type": "markdown",
   "id": "reported-yemen",
   "metadata": {},
   "source": [
    "## Centralized Experiments"
   ]
  },
  {
   "cell_type": "code",
   "execution_count": 13,
   "id": "difficult-opera",
   "metadata": {
    "scrolled": true
   },
   "outputs": [
    {
     "name": "stdout",
     "output_type": "stream",
     "text": [
      "max duration: 1944.0\n",
      "total number of data points: 6036\n"
     ]
    }
   ],
   "source": [
    "#import datasets\n",
    "name = \"gbsg\"\n",
    "df_init = support.read_df()\n",
    "df_init = df_init[[\"duration\", \"event\"]]\n",
    "_, df = h.event_seperator(df_init)\n",
    "max_duration = (df[\"duration\"].max())\n",
    "print(f'max duration: {max_duration}')\n",
    "total_number = len(df)\n",
    "print(f'total number of data points: {total_number}')"
   ]
  },
  {
   "cell_type": "code",
   "execution_count": 17,
   "id": "69ba5cb2-f1cf-45ad-80e5-00dd9b3fc864",
   "metadata": {
    "scrolled": true
   },
   "outputs": [
    {
     "name": "stdout",
     "output_type": "stream",
     "text": [
      "max duration: 355.20001220703125\n",
      "total number of data points: 1904\n"
     ]
    }
   ],
   "source": [
    "#import datasets\n",
    "name = \"metabric\"\n",
    "df = metabric.read_df()\n",
    "df = df[[\"duration\", \"event\"]]\n",
    "df2, df1 = h.event_seperator(df)\n",
    "max_duration = (df[\"duration\"].max())\n",
    "print(f'max duration: {max_duration}')\n",
    "total_number = len(df)\n",
    "print(f'total number of data points: {total_number}')"
   ]
  },
  {
   "cell_type": "code",
   "execution_count": 48,
   "id": "d49d94c5-0717-4e51-a9ca-461270abf6db",
   "metadata": {},
   "outputs": [
    {
     "data": {
      "image/png": "[encoded data removed]",
      "text/plain": [
       "<Figure size 640x480 with 1 Axes>"
      ]
     },
     "metadata": {},
     "output_type": "display_data"
    }
   ],
   "source": [
    "ax = plt.subplot(111)\n",
    "kmf = KaplanMeierFitter()\n",
    "a = kmf.fit(df[1:300][\"duration\"], df[1:300][\"event\"])\n",
    "a.plot(ci_show=False, label=\"\", linewidth=4.0)\n",
    "\n",
    "# ds1 = kmf.fit(df1[\"duration\"], df1[\"event\"], label=f\"Drug A\")\n",
    "# ds1 = kmf.fit(df_init[\"duration\"], df_init[\"event\"], label=f\"Drug B\")\n",
    "# ds1.plot()\n",
    "# ax.set_xlabel(\"Time\", fontsize=\"large\")\n",
    "# ax.set_ylabel(\"Survival Probability\", fontsize=\"large\")\n",
    "# leg1 = ax.legend()\n",
    "# ax.add_artist(leg1)\n",
    "plt.savefig(f'figs/toy-all.jpg', dpi=300, bbox_inches=\"tight\")\n",
    "plt.show()\n"
   ]
  },
  {
   "cell_type": "code",
   "execution_count": 110,
   "id": "0a3dd43c-1bc2-46b8-8e82-dfad67585903",
   "metadata": {},
   "outputs": [],
   "source": [
    "dp_surv_bins= {\"support\":2, \"gbsg\":1, \"metabric\":6}\n",
    "dp_prob_bins= {\"support\":6, \"gbsg\":2, \"metabric\":4}\n",
    "dp_matrix_bins= {\"support\":6, \"gbsg\":2, \"metabric\":6}"
   ]
  },
  {
   "cell_type": "code",
   "execution_count": 111,
   "id": "computational-interest",
   "metadata": {},
   "outputs": [],
   "source": [
    "max_time = math.floor(max_duration)\n",
    "epsilon = 10\n",
    "frac = 0.10"
   ]
  },
  {
   "cell_type": "code",
   "execution_count": 112,
   "id": "b080e483-6864-40d8-84bc-ef03a54dbcbf",
   "metadata": {},
   "outputs": [
    {
     "name": "stdout",
     "output_type": "stream",
     "text": [
      "first time= 88.0, second time=177.0, third time=266.0\n"
     ]
    }
   ],
   "source": [
    "point1 = np.floor(0.25*max_duration)\n",
    "point2 = np.floor(0.50*max_duration)\n",
    "point3 = np.floor(0.75*max_duration)\n",
    "print(f'first time= {point1}, second time={point2}, third time={point3}')\n",
    "tarr = [point1, point2, point3]"
   ]
  },
  {
   "cell_type": "code",
   "execution_count": 113,
   "id": "11e1a907-d613-4b02-a677-35687064177d",
   "metadata": {},
   "outputs": [
    {
     "name": "stdout",
     "output_type": "stream",
     "text": [
      "survival at times: [0.69 0.44 0.24]\n",
      "upper confidence: [0.71, 0.47, 0.27]\n",
      "lower confidence: [0.67, 0.42, 0.21]\n",
      "median: 154 median_ci: [[  0.5        146.3999939  167.93333435]]\n"
     ]
    }
   ],
   "source": [
    "#info of original dataset\n",
    "survival, upper, lower = ev.confidence_at_time(df, tarr)\n",
    "median, median_ci = ev.median_confidence(df)\n",
    "print(\"survival at times:\", survival)\n",
    "print(\"upper confidence:\", upper)\n",
    "print(\"lower confidence:\", lower)\n",
    "print(\"median:\", median, \"median_ci:\", median_ci)"
   ]
  },
  {
   "cell_type": "code",
   "execution_count": 114,
   "id": "a7847841-ce37-4ed0-ba73-4533995343d2",
   "metadata": {},
   "outputs": [],
   "source": [
    "p_surv, m_surv, sr_surv = [], [], []"
   ]
  },
  {
   "cell_type": "code",
   "execution_count": 115,
   "id": "84e609a6-931b-4345-93c7-49fd133bdeba",
   "metadata": {},
   "outputs": [
    {
     "name": "stdout",
     "output_type": "stream",
     "text": [
      "DP-Surv worst case\n"
     ]
    }
   ],
   "source": [
    "print(\"DP-Surv worst case\")\n",
    "for i in range(10): \n",
    "    s_inst = cdp.CentralizedDPS(df, dp_surv_bins[name], max_time, frac, epsilon)\n",
    "    surrworst, _, _, _ = s_inst.DP_Surv_worst()\n",
    "#     p, m , sr = ev.centralized_ex(df, surrworst, tarr)\n",
    "#     p_surv+=[p]\n",
    "#     m_surv+=[m]\n",
    "#     sr_surv+=[sr]\n",
    "# print(\"p-value:\", ev.confidence_of_mean(p_surv))\n",
    "# print(\"median:\", ev.confidence_of_mean(m_surv))\n",
    "# print(\"survival rates\", ev.confidence_of_mean(sr_surv))"
   ]
  },
  {
   "cell_type": "code",
   "execution_count": 116,
   "id": "f64f8629-b1b5-44f1-8776-922a92e145ed",
   "metadata": {},
   "outputs": [],
   "source": [
    "p_matrix, m_matrix, sr_matrix = [], [], []"
   ]
  },
  {
   "cell_type": "code",
   "execution_count": 117,
   "id": "9d6b3377-0d09-41f2-8b77-5828ebdda95d",
   "metadata": {
    "scrolled": true
   },
   "outputs": [
    {
     "name": "stdout",
     "output_type": "stream",
     "text": [
      "DP-Matrix+\n"
     ]
    }
   ],
   "source": [
    "print(\"DP-Matrix+\")\n",
    "for i in range(10): \n",
    "    surrmat, _ = cdp.DP_matrix(df, dp_matrix_bins[name], max_time, epsilon)\n",
    "    p, m , sr = ev.centralized_ex(df, surrmat, tarr)\n",
    "    # p_matrix+=[p]\n",
    "    # m_matrix+=[m]\n",
    "    # sr_matrix+=[sr]\n",
    "# print(\"p-value:\", ev.confidence_of_mean(p_matrix))\n",
    "# print(\"median:\", ev.confidence_of_mean(m_matrix))\n",
    "# print(\"survival rates:\", ev.confidence_of_mean(sr_matrix))"
   ]
  },
  {
   "cell_type": "code",
   "execution_count": 118,
   "id": "af531d66-7d0a-4700-9f22-b31df2b494a0",
   "metadata": {},
   "outputs": [
    {
     "data": {
      "image/png": "[encoded data removed]",
      "text/plain": [
       "<Figure size 640x480 with 1 Axes>"
      ]
     },
     "metadata": {},
     "output_type": "display_data"
    }
   ],
   "source": [
    "title = \"centralized\"\n",
    "ax = plt.subplot(111)\n",
    "kmf = KaplanMeierFitter()\n",
    "a = kmf.fit(df[\"duration\"], df[\"event\"], label=f\"Non-Private\")\n",
    "a.plot()\n",
    "\n",
    "ds1 = kmf.fit(df1[\"duration\"], df1[\"event\"], label=f\"Non-Private, only e=1\")\n",
    "ds1.plot()\n",
    "\n",
    "dpmat = kmf.fit(surrmat[\"duration\"], surrmat[\"event\"], label=f\"DP-Matrix+\")\n",
    "dpmat.plot(ci_force_lines=False, ci_show=False, linestyle=\"-\")\n",
    "\n",
    "dpp = kmf.fit(surrworst[\"duration\"], surrworst[\"event\"], label=f\"DP-Surv C=N\")\n",
    "dpp.plot(ci_force_lines=False, ci_show=False, linestyle=\"-\")\n",
    "\n",
    "\n",
    "\n",
    "ax.set_title(f\"{name.upper()}, {title}, $\\epsilon$={epsilon}\")\n",
    "ax.set_xlabel(\"Time\", fontsize=\"large\")\n",
    "ax.set_ylabel(\"Survival Probability\", fontsize=\"large\")\n",
    "leg1 = ax.legend()\n",
    "ax.add_artist(leg1)\n",
    "plt.savefig(f'figs/2casewdpmat-{name}-{title}-e{epsilon}.pdf', dpi=300, bbox_inches=\"tight\")\n",
    "plt.show()"
   ]
  },
  {
   "cell_type": "code",
   "execution_count": 41,
   "id": "6de69a09-16c7-4ec0-88c1-4f42a3a2a2c5",
   "metadata": {},
   "outputs": [],
   "source": [
    "p_surv, m_surv, sr_surv = [], [], []"
   ]
  },
  {
   "cell_type": "code",
   "execution_count": 42,
   "id": "69da6b7c-0ee3-4f61-bea7-b5531689397f",
   "metadata": {},
   "outputs": [
    {
     "name": "stdout",
     "output_type": "stream",
     "text": [
      "DP-Surv\n",
      "p-value: (0.25, array([0.04, 0.45]))\n",
      "median: (213.8, array([ 76.99, 310.  ]))\n",
      "survival rates (array([0.4 , 0.27, 0.24]), array([[0.37, 0.24, 0.22],\n",
      "       [0.44, 0.3 , 0.25]]))\n"
     ]
    }
   ],
   "source": [
    "print(\"DP-Surv\")\n",
    "for i in range(10): \n",
    "    s_inst = cdp.CentralizedDPS(df, dp_surv_bins[name], max_time, frac, epsilon)\n",
    "    surrsurv, _, _, _ = s_inst.DP_Surv()\n",
    "    p, m , sr = ev.centralized_ex(df, surrsurv, tarr)\n",
    "    p_surv+=[p]\n",
    "    m_surv+=[m]\n",
    "    sr_surv+=[sr]\n",
    "print(\"p-value:\", ev.confidence_of_mean(p_surv))\n",
    "print(\"median:\", ev.confidence_of_mean(m_surv))\n",
    "print(\"survival rates\", ev.confidence_of_mean(sr_surv))"
   ]
  },
  {
   "cell_type": "code",
   "execution_count": 9,
   "id": "651da71e-530a-45c4-9a11-2e03642b6a97",
   "metadata": {},
   "outputs": [],
   "source": [
    "p_prob, m_prob, sr_prob = [], [], []"
   ]
  },
  {
   "cell_type": "code",
   "execution_count": 10,
   "id": "9c7dc67f-4be9-4709-a03a-2f45f04e43b2",
   "metadata": {},
   "outputs": [
    {
     "name": "stdout",
     "output_type": "stream",
     "text": [
      "DP-Prob\n",
      "p-value: (0.0, array([0., 0.]))\n",
      "median: (66.84, array([66.24, 67.44]))\n",
      "survival rates: (array([0.17, 0.08, 0.03]), array([[0.17, 0.08, 0.03],\n",
      "       [0.18, 0.08, 0.03]]))\n"
     ]
    }
   ],
   "source": [
    "print(\"DP-Prob\")\n",
    "for i in range(100): \n",
    "    p_inst= cdp.CentralizedDPy(df, dp_prob_bins[name], max_time, epsilon)\n",
    "    surrprob, _, _, _ = p_inst.DP_probs()\n",
    "    p, m , sr = ev.centralized_ex(df, surrprob, tarr)\n",
    "    p_prob+=[p]\n",
    "    m_prob+=[m]\n",
    "    sr_prob+=[sr]\n",
    "print(\"p-value:\", ev.confidence_of_mean(p_prob))\n",
    "print(\"median:\", ev.confidence_of_mean(m_prob))\n",
    "print(\"survival rates:\", ev.confidence_of_mean(sr_prob))"
   ]
  },
  {
   "cell_type": "code",
   "execution_count": 13,
   "id": "77744ff8-6a9f-4fc6-9df6-fb7bed54e844",
   "metadata": {},
   "outputs": [],
   "source": [
    "p_matrix, m_matrix, sr_matrix = [], [], []"
   ]
  },
  {
   "cell_type": "code",
   "execution_count": 14,
   "id": "b358a72d-f57a-424a-ba78-93bf0089fcca",
   "metadata": {
    "scrolled": true
   },
   "outputs": [
    {
     "name": "stdout",
     "output_type": "stream",
     "text": [
      "DP-Matrix+\n",
      "p-value: (0.07, array([-0.05,  0.14]))\n",
      "median: (60.0, array([60., 60.]))\n",
      "survival rates: (array([0.12, 0.  , 0.  ]), array([[ 0.12, -0.  , -0.  ],\n",
      "       [ 0.13,  0.  ,  0.  ]]))\n"
     ]
    }
   ],
   "source": [
    "print(\"DP-Matrix+\")\n",
    "for i in range(10): \n",
    "    surrmat, _ = cdp.DP_matrix(df, dp_matrix_bins[name], max_time, epsilon)\n",
    "    p, m , sr = ev.centralized_ex(df, surrmat, tarr)\n",
    "    p_matrix+=[p]\n",
    "    m_matrix+=[m]\n",
    "    sr_matrix+=[sr]\n",
    "print(\"p-value:\", ev.confidence_of_mean(p_matrix))\n",
    "print(\"median:\", ev.confidence_of_mean(m_matrix))\n",
    "print(\"survival rates:\", ev.confidence_of_mean(sr_matrix))"
   ]
  },
  {
   "cell_type": "code",
   "execution_count": null,
   "id": "80e22b4d-0826-49aa-8197-b0b6aaad1ec1",
   "metadata": {},
   "outputs": [],
   "source": []
  },
  {
   "cell_type": "code",
   "execution_count": 15,
   "id": "connected-disability",
   "metadata": {
    "scrolled": true
   },
   "outputs": [
    {
     "data": {
      "image/png": "[encoded data removed]",
      "text/plain": [
       "<Figure size 640x480 with 1 Axes>"
      ]
     },
     "metadata": {},
     "output_type": "display_data"
    }
   ],
   "source": [
    "title = \"centralized\"\n",
    "ax = plt.subplot(111)\n",
    "kmf = KaplanMeierFitter()\n",
    "m = plots.median(df)\n",
    "a = kmf.fit(df[\"duration\"], df[\"event\"], label=f\"Non-Private\")\n",
    "a.plot()\n",
    "\n",
    "\n",
    "m1 = ev.median(surrsurv)\n",
    "p1 = ev.pvalue(df, surrsurv)\n",
    "dps = kmf.fit(surrsurv[\"duration\"], surrsurv[\"event\"], label=f\"DP-Surv\")\n",
    "dps.plot(ci_force_lines=False, ci_show=False, linestyle=\"-\")\n",
    "\n",
    "m2 = ev.median(surrprob)\n",
    "p2 = ev.pvalue(df, surrprob)\n",
    "dpp = kmf.fit(surrprob[\"duration\"], surrprob[\"event\"], label=f\"DP-Prob\")\n",
    "dpp.plot(ci_force_lines=False, ci_show=False, linestyle=\"-\")\n",
    "\n",
    "\n",
    "m3 = ev.median(surrmat)\n",
    "p3 = ev.pvalue(df, surrmat)\n",
    "dpm = kmf.fit(surrmat[\"duration\"], surrmat[\"event\"], label=f\"DP-Matrix+\")\n",
    "dpm.plot(ci_force_lines=False, ci_show=False, linestyle=\"-\")\n",
    "\n",
    "\n",
    "ax.set_title(f\"{name.upper()}, {title}, $\\epsilon$={epsilon}\")\n",
    "ax.set_xlabel(\"Time\", fontsize=\"large\")\n",
    "ax.set_ylabel(\"Survival Probability\", fontsize=\"large\")\n",
    "leg1 = ax.legend()\n",
    "ax.add_artist(leg1)\n",
    "# leg2 = ax.legend([f\"m={round(m)}\",\n",
    "#                   f\"m={round(m1)}, p={p1}\",\n",
    "#                   f\"m={round(m2)}, p={p2}\", f\"m={round(m3)}, p={p3}\"],\n",
    "#                   loc=\"upper right\", \n",
    "#                 handlelength=0, handletextpad=0, fancybox=True)\n",
    "# for item in leg2.legendHandles:\n",
    "#     item.set_visible(False)\n",
    "# ax.add_artist(leg2)\n",
    "# plt.savefig(f'figs/rc1-{name}-{title}-e{epsilon}.pdf', dpi=300, bbox_inches=\"tight\")\n",
    "plt.show()"
   ]
  },
  {
   "cell_type": "markdown",
   "id": "sharp-telephone",
   "metadata": {},
   "source": [
    "## Federated Experiments"
   ]
  },
  {
   "cell_type": "code",
   "execution_count": 4,
   "id": "0f579d8b-25ed-4ea7-af04-f212f9740d8b",
   "metadata": {
    "scrolled": true
   },
   "outputs": [
    {
     "name": "stdout",
     "output_type": "stream",
     "text": [
      "max duration: 2029.0\n",
      "total number of data points: 8873\n"
     ]
    }
   ],
   "source": [
    "#import datasets\n",
    "name = \"support\"\n",
    "df = support.read_df()\n",
    "# df_init = support.read_df()\n",
    "# df_init = df_init[[\"duration\", \"event\"]]\n",
    "# _, df = h.event_seperator(df_init)\n",
    "max_duration = (df[\"duration\"].max())\n",
    "print(f'max duration: {max_duration}')\n",
    "total_number = len(df)\n",
    "print(f'total number of data points: {total_number}')"
   ]
  },
  {
   "cell_type": "code",
   "execution_count": 5,
   "id": "fdeb59aa-4454-4208-9998-3ef2141f03ee",
   "metadata": {},
   "outputs": [],
   "source": [
    "dp_surv_bins= {\"support\":2, \"gbsg\":1, \"metabric\":6}\n",
    "dp_prob_bins= {\"support\":6, \"gbsg\":2, \"metabric\":4}\n",
    "dp_matrix_bins= {\"support\":6, \"gbsg\":2, \"metabric\":6}"
   ]
  },
  {
   "cell_type": "code",
   "execution_count": 6,
   "id": "7803d30f-a6a8-45bd-85f5-791584487dca",
   "metadata": {},
   "outputs": [
    {
     "name": "stdout",
     "output_type": "stream",
     "text": [
      "first time= 507.0, second time=1014.0, third time=1521.0\n"
     ]
    }
   ],
   "source": [
    "max_time = math.floor(max_duration)\n",
    "point1 = np.floor(0.25*max_duration)\n",
    "point2 = np.floor(0.50*max_duration)\n",
    "point3 = np.floor(0.75*max_duration)\n",
    "print(f'first time= {point1}, second time={point2}, third time={point3}')\n",
    "tarr = [point1, point2, point3]"
   ]
  },
  {
   "cell_type": "code",
   "execution_count": 7,
   "id": "ffb4c8e1-ea9d-4df7-b0bb-ce4f95792bef",
   "metadata": {},
   "outputs": [
    {
     "name": "stdout",
     "output_type": "stream",
     "text": [
      "survival at times: [0.41 0.32 0.27]\n",
      "upper confidence: [0.42, 0.33, 0.28]\n",
      "lower confidence: [0.4, 0.31, 0.26]\n",
      "median: 231 median_ci: [[  0.5 215.  251. ]]\n"
     ]
    }
   ],
   "source": [
    "#info of original dataset\n",
    "survival, upper, lower = ev.confidence_at_time(df, tarr)\n",
    "median, median_ci = ev.median_confidence(df)\n",
    "print(\"survival at times:\", survival)\n",
    "print(\"upper confidence:\", upper)\n",
    "print(\"lower confidence:\", lower)\n",
    "print(\"median:\", median, \"median_ci:\", median_ci)"
   ]
  },
  {
   "cell_type": "code",
   "execution_count": 10,
   "id": "front-strengthening",
   "metadata": {},
   "outputs": [],
   "source": [
    "epsilon = 1\n",
    "frac = 0.10\n",
    "num_client = 10\n",
    "percent_one = -1\n",
    "if percent_one == -1:\n",
    "    title = \"Even\"\n",
    "    title2 = \"even\"\n",
    "else:\n",
    "    title = \"Uneven 50%\"\n",
    "    title2 = \"Uneven50\"\n",
    "    "
   ]
  },
  {
   "cell_type": "code",
   "execution_count": 11,
   "id": "invisible-criticism",
   "metadata": {},
   "outputs": [],
   "source": [
    "if percent_one<0:\n",
    "    data_split = fdk.data_split_uniform(df, num_client)\n",
    "else:\n",
    "    data_split = fdk.data_split_nonuniform(df, num_client, percent_one)"
   ]
  },
  {
   "cell_type": "code",
   "execution_count": 12,
   "id": "ced48b01-7c6b-4ff0-8a01-c60d2d17d692",
   "metadata": {},
   "outputs": [
    {
     "name": "stdout",
     "output_type": "stream",
     "text": [
      "0.9\n"
     ]
    }
   ],
   "source": [
    "dspooled_surr = fdk.fed_DPS_pooledData(df, num_client, dp_surv_bins[name], max_time, frac, epsilon, percent_one)\n",
    "p, m , sr = ev.centralized_ex(df, dspooled_surr, tarr)\n",
    "print(p)"
   ]
  },
  {
   "cell_type": "code",
   "execution_count": 158,
   "id": "actual-lemon",
   "metadata": {
    "scrolled": true
   },
   "outputs": [
    {
     "data": {
      "image/png": "[encoded data removed]",
      "text/plain": [
       "<Figure size 640x480 with 1 Axes>"
      ]
     },
     "metadata": {},
     "output_type": "display_data"
    }
   ],
   "source": [
    "ax = plt.subplot(111)\n",
    "\n",
    "m = plots.median(df)\n",
    "kmf = KaplanMeierFitter()\n",
    "a = kmf.fit(df[\"duration\"], df[\"event\"], label=f\"Non-private Centralized, m={m}\")\n",
    "a.plot(color=\"#1f77b4\")\n",
    "\n",
    "m = ev.median(dspooled_surr)\n",
    "p = ev.pvalue(df, dspooled_surr)\n",
    "kmp = kmf.fit(dspooled_surr[\"duration\"], dspooled_surr[\"event\"], label=f\"Our DP-S, m={m}, p={p}\")\n",
    "kmp.plot(ci_force_lines=False, ci_show=False, color=\"tomato\", linestyle=\"-\")\n",
    "\n",
    "# m = ev.median(dpmatrix_surr)\n",
    "# p = ev.pvalue(df, dpmatrix_surr)\n",
    "# kmp = kmf.fit(dpmatrix_surr[\"duration\"], dpmatrix_surr[\"event\"], label=f\"Our DP-S, m={m}, p={p}\")\n",
    "# kmp.plot(ci_force_lines=False, ci_show=False, color=\"tomato\", linestyle=\"-\")\n",
    "\n",
    "kmo = kmf.fit(data_split[1][\"duration\"], data_split[1][\"event\"], label=f'Local sites:')\n",
    "kmo.plot(ci_force_lines=False, ci_show=False, linestyle=(0, (1, 1)), color=\"grey\", alpha=0.5)\n",
    "\n",
    "for i in range(num_client):\n",
    "    m = ev.median(data_split[i])\n",
    "    p = ev.pvalue(df, data_split[i])\n",
    "    if (percent_one>0 and i == 0):\n",
    "        kmo = kmf.fit(data_split[i][\"duration\"], data_split[i][\"event\"], label=f'minority: m={m}, p={p} ')\n",
    "    else: \n",
    "        kmo = kmf.fit(data_split[i][\"duration\"], data_split[i][\"event\"], label=f'{i+1}: m={m}, p={p} ')\n",
    "        \n",
    "    kmo.plot(ci_force_lines=False, ci_show=False, linestyle=(0, (1, 1)), color=\"white\", alpha=0.5)\n",
    "#     kmo.plot(ci_force_lines=False, ci_show=False, linestyle=\"dashed\")\n",
    "\n",
    "for i in range(num_client):\n",
    "    m = ev.median(data_split[i])\n",
    "    p = ev.pvalue(df, data_split[i])\n",
    "    if (percent_one >0 and i == 0):\n",
    "        kmo = kmf.fit(data_split[i][\"duration\"], data_split[i][\"event\"], label=f'')\n",
    "    else: \n",
    "        kmo = kmf.fit(data_split[i][\"duration\"], data_split[i][\"event\"], label=f'')\n",
    "        \n",
    "    kmo.plot(ci_force_lines=False, ci_show=False, linestyle=(0, (1, 1)), color=\"grey\", alpha=0.5)\n",
    "#     kmo.plot(ci_force_lines=False, ci_show=False, linestyle=\"dashed\")\n",
    "\n",
    "# kmp = kmf.fit(sdy[\"duration\"], sdy[\"event\"], label=f\"\")\n",
    "# kmp.plot(ci_force_lines=False, ci_show=False, color=\"tomato\", linestyle=\"-\")\n",
    "\n",
    "ax.set_title(f\"{name.upper()}, {title}, $\\epsilon$={epsilon}\", fontsize=\"large\")\n",
    "ax.set_xlabel(\"Time\", fontsize=\"large\")\n",
    "ax.set_ylabel(\"Survival Probability\", fontsize=\"large\")\n",
    "# leg1 = ax.legend()\n",
    "# ax.add_artist(leg1, prop={'size': 6})\n",
    "# ax.legend(loc=\"lower left\", prop={'size': 7.3})\n",
    "ax.legend(loc=\"upper right\", fontsize=9)\n",
    "# ax.add_artist(leg2)\n",
    "plt.savefig(f'figs/rc1-{name}-fed-{title2}-e{epsilon}.pdf', dpi=300, bbox_inches=\"tight\")\n",
    "plt.show()"
   ]
  },
  {
   "cell_type": "code",
   "execution_count": null,
   "id": "001ee3e4-75c8-4855-80df-7fe30665723f",
   "metadata": {},
   "outputs": [],
   "source": []
  },
  {
   "cell_type": "code",
   "execution_count": 76,
   "id": "70408529-8f1d-404d-9a32-3b83e547f143",
   "metadata": {},
   "outputs": [],
   "source": [
    "dspooled_p, dspooled_m, dspooled_sr = [], [], []"
   ]
  },
  {
   "cell_type": "code",
   "execution_count": 77,
   "id": "2a34007c-1707-48fd-892a-0f4152186f13",
   "metadata": {
    "scrolled": true
   },
   "outputs": [
    {
     "name": "stdout",
     "output_type": "stream",
     "text": [
      "DP-Surv Pooled:\n",
      "p-value: (0.2, array([0.15, 0.24]))\n",
      "median: (60.02, array([58.94, 61.16]))\n",
      "survival rates: (array([0.14, 0.05, 0.01]), array([[0.14, 0.05, 0.01],\n",
      "       [0.14, 0.05, 0.02]]))\n"
     ]
    }
   ],
   "source": [
    "print(\"DP-Surv Pooled:\")    \n",
    "for i in range(100): \n",
    "    dspooled_surr = fdk.fed_DPS_pooledData(df, num_client, dp_surv_bins[name], max_time, frac, epsilon, percent_one)\n",
    "    p, m , sr = ev.centralized_ex(df, dspooled_surr, tarr)\n",
    "    dspooled_p+=[p]\n",
    "    dspooled_m+=[m]\n",
    "    dspooled_sr+=[sr]\n",
    "print(\"p-value:\", ev.confidence_of_mean(dspooled_p))\n",
    "print(\"median:\", ev.confidence_of_mean(dspooled_m))\n",
    "print(\"survival rates:\", ev.confidence_of_mean(dspooled_sr))"
   ]
  },
  {
   "cell_type": "code",
   "execution_count": 78,
   "id": "494b012d-e9ef-47b7-9f16-6954ae6a2b86",
   "metadata": {},
   "outputs": [],
   "source": [
    "dsavgs_p, dsavgs_m, dsavgs_sr = [], [], []"
   ]
  },
  {
   "cell_type": "code",
   "execution_count": 79,
   "id": "94b63b89-650a-4f46-8e58-530c0c84fc28",
   "metadata": {},
   "outputs": [
    {
     "name": "stdout",
     "output_type": "stream",
     "text": [
      "DP-Surv Average S:\n",
      "p-value: (0.19, array([0.15, 0.23]))\n",
      "median: (59.78, array([58.76, 60.86]))\n",
      "survival rates: (array([0.14, 0.05, 0.01]), array([[0.14, 0.05, 0.01],\n",
      "       [0.14, 0.05, 0.01]]))\n"
     ]
    }
   ],
   "source": [
    "print(\"DP-Surv Average S:\")    \n",
    "for i in range(100): \n",
    "    dsavgs_surr, _, _ = fdk.fed_DPS_avgS(df, num_client, dp_surv_bins[name], max_time, frac, epsilon, percent_one)\n",
    "    p, m , sr = ev.centralized_ex(df, dsavgs_surr, tarr)\n",
    "    dsavgs_p+=[p]\n",
    "    dsavgs_m+=[m]\n",
    "    dsavgs_sr+=[sr]\n",
    "print(\"p-value:\", ev.confidence_of_mean(dsavgs_p))\n",
    "print(\"median:\", ev.confidence_of_mean(dsavgs_m))\n",
    "print(\"survival rates:\", ev.confidence_of_mean(dsavgs_sr))"
   ]
  },
  {
   "cell_type": "code",
   "execution_count": 80,
   "id": "20a4dfaa-ab59-412a-bc1b-92e695134968",
   "metadata": {},
   "outputs": [],
   "source": [
    "dsavgy_p, dsavgy_m, dsavgy_sr = [], [], []"
   ]
  },
  {
   "cell_type": "code",
   "execution_count": 81,
   "id": "f6a75b3d-ed45-4498-8153-587f0f90342a",
   "metadata": {},
   "outputs": [
    {
     "name": "stdout",
     "output_type": "stream",
     "text": [
      "DP-Surv Average y:\n",
      "p-value: (0.23, array([0.18, 0.27]))\n",
      "median: (60.06, array([59.08, 61.06]))\n",
      "survival rates: (array([0.14, 0.05, 0.01]), array([[0.14, 0.05, 0.01],\n",
      "       [0.14, 0.05, 0.02]]))\n"
     ]
    }
   ],
   "source": [
    "print(\"DP-Surv Average y:\")    \n",
    "for i in range(100): \n",
    "    dsavgy_surr, _ = fdk.fed_DPS_avgy(df, num_client, dp_surv_bins[name], max_time, frac, epsilon, percent_one)\n",
    "    p, m , sr = ev.centralized_ex(df, dsavgy_surr, tarr)\n",
    "    dsavgy_p+=[p]\n",
    "    dsavgy_m+=[m]\n",
    "    dsavgy_sr+=[sr]\n",
    "print(\"p-value:\", ev.confidence_of_mean(dsavgy_p))\n",
    "print(\"median:\", ev.confidence_of_mean(dsavgy_m))\n",
    "print(\"survival rates:\", ev.confidence_of_mean(dsavgy_sr))"
   ]
  },
  {
   "cell_type": "code",
   "execution_count": null,
   "id": "0e2ea869-e2ea-4525-91a0-6c82a55b38d8",
   "metadata": {},
   "outputs": [],
   "source": []
  },
  {
   "cell_type": "code",
   "execution_count": 59,
   "id": "69f2ae73-f59a-426c-b76d-7065511e8376",
   "metadata": {},
   "outputs": [],
   "source": [
    "dypooled_p, dypooled_m, dypooled_sr = [], [], []"
   ]
  },
  {
   "cell_type": "code",
   "execution_count": 60,
   "id": "6c9a3f57-52c8-4994-a524-2339aa5f0a50",
   "metadata": {},
   "outputs": [
    {
     "name": "stdout",
     "output_type": "stream",
     "text": [
      "DP-Prob Pooled:\n",
      "p-value: (0.0, array([0., 0.]))\n",
      "median: (25.89, array([25.79, 25.99]))\n",
      "survival rates: (array([0.6 , 0.28, 0.11]), array([[0.6 , 0.28, 0.11],\n",
      "       [0.6 , 0.28, 0.11]]))\n"
     ]
    }
   ],
   "source": [
    "print(\"DP-Prob Pooled:\")    \n",
    "for i in range(100): \n",
    "    dypooled_surr = fdk.fed_DPy_pooledData(df, num_client, dp_surv_bins[name], max_time, epsilon, percent_one)\n",
    "    p, m , sr = ev.centralized_ex(df, dypooled_surr, tarr)\n",
    "    dypooled_p+=[p]\n",
    "    dypooled_m+=[m]\n",
    "    dypooled_sr+=[sr]\n",
    "print(\"p-value:\", ev.confidence_of_mean(dypooled_p))\n",
    "print(\"median:\", ev.confidence_of_mean(dypooled_m))\n",
    "print(\"survival rates:\", ev.confidence_of_mean(dypooled_sr))"
   ]
  },
  {
   "cell_type": "code",
   "execution_count": 61,
   "id": "8bc65671-d605-4e3a-ac0a-c925d419c1b1",
   "metadata": {},
   "outputs": [],
   "source": [
    "dyavgs_p, dyavgs_m, dyavgs_sr = [], [], []"
   ]
  },
  {
   "cell_type": "code",
   "execution_count": 62,
   "id": "fb5eb978-3153-4249-ac2d-c88e81085175",
   "metadata": {},
   "outputs": [
    {
     "name": "stdout",
     "output_type": "stream",
     "text": [
      "DP-Prob Average S:\n",
      "p-value: (0.0, array([-0.,  0.]))\n",
      "median: (25.99, array([25.9 , 26.08]))\n",
      "survival rates: (array([0.6 , 0.28, 0.11]), array([[0.6 , 0.28, 0.11],\n",
      "       [0.6 , 0.28, 0.11]]))\n"
     ]
    }
   ],
   "source": [
    "print(\"DP-Prob Average S:\")    \n",
    "for i in range(100): \n",
    "    dyavgs_surr, _, _ = fdk.fed_DPy_avgS(df, num_client, dp_surv_bins[name], max_time, epsilon, percent_one)\n",
    "    p, m , sr = ev.centralized_ex(df, dyavgs_surr, tarr)\n",
    "    dyavgs_p+=[p]\n",
    "    dyavgs_m+=[m]\n",
    "    dyavgs_sr+=[sr]\n",
    "print(\"p-value:\", ev.confidence_of_mean(dyavgs_p))\n",
    "print(\"median:\", ev.confidence_of_mean(dyavgs_m))\n",
    "print(\"survival rates:\", ev.confidence_of_mean(dyavgs_sr))"
   ]
  },
  {
   "cell_type": "code",
   "execution_count": 63,
   "id": "16715fff-d2f2-47b3-b26e-c5fbdb182893",
   "metadata": {},
   "outputs": [],
   "source": [
    "dyavgy_p, dyavgy_m, dyavgy_sr = [], [], []"
   ]
  },
  {
   "cell_type": "code",
   "execution_count": 64,
   "id": "829c7181-c6ff-40c8-acbb-a8f903886b2a",
   "metadata": {},
   "outputs": [
    {
     "name": "stdout",
     "output_type": "stream",
     "text": [
      "DP-Prob Avgerage y:\n",
      "p-value: (0.0, array([-0.,  0.]))\n",
      "median: (26.02, array([25.94, 26.1 ]))\n",
      "survival rates: (array([0.6 , 0.28, 0.11]), array([[0.6 , 0.28, 0.11],\n",
      "       [0.6 , 0.28, 0.12]]))\n"
     ]
    }
   ],
   "source": [
    "print(\"DP-Prob Avgerage y:\")    \n",
    "for i in range(100): \n",
    "    dyavgy_surr, _ = fdk.fed_DPy_avgy(df, num_client, dp_surv_bins[name], max_time, epsilon, percent_one)\n",
    "    p, m , sr = ev.centralized_ex(df, dyavgy_surr, tarr)\n",
    "    dyavgy_p+=[p]\n",
    "    dyavgy_m+=[m]\n",
    "    dyavgy_sr+=[sr]\n",
    "print(\"p-value:\", ev.confidence_of_mean(dyavgy_p))\n",
    "print(\"median:\", ev.confidence_of_mean(dyavgy_m))\n",
    "print(\"survival rates:\", ev.confidence_of_mean(dyavgy_sr))"
   ]
  },
  {
   "cell_type": "code",
   "execution_count": 13,
   "id": "861cca0b-2394-441f-9a4d-d01be6cc9b3a",
   "metadata": {},
   "outputs": [],
   "source": [
    "dpmatrix_p, dpmatrix_m, dpmatrix_sr = [], [], []"
   ]
  },
  {
   "cell_type": "code",
   "execution_count": 14,
   "id": "75061d8d-7bf5-4e5d-8010-c46bb73ace2e",
   "metadata": {},
   "outputs": [
    {
     "name": "stdout",
     "output_type": "stream",
     "text": [
      "DP-Matrix pooled\n",
      "p-value: (0.0, array([0., 0.]))\n",
      "median: (170.88, array([169.42, 172.3 ]))\n",
      "survival rates: (array([0.22, 0.02, 0.02]), array([[0.21, 0.02, 0.02],\n",
      "       [0.22, 0.03, 0.03]]))\n"
     ]
    }
   ],
   "source": [
    "print(\"DP-Matrix pooled\")\n",
    "for i in range(100): \n",
    "    dpmatrix_surr = fdk.fed_DPMatrix_pooledData(df, num_client, dp_surv_bins[name], max_time, epsilon, percent_one)\n",
    "    p, m , sr = ev.centralized_ex(df, dpmatrix_surr, tarr)\n",
    "    dpmatrix_p+=[p]\n",
    "    dpmatrix_m+=[m]\n",
    "    dpmatrix_sr+=[sr]\n",
    "print(\"p-value:\", ev.confidence_of_mean(dpmatrix_p))\n",
    "print(\"median:\", ev.confidence_of_mean(dpmatrix_m))\n",
    "print(\"survival rates:\", ev.confidence_of_mean(dpmatrix_sr))"
   ]
  },
  {
   "cell_type": "code",
   "execution_count": null,
   "id": "ddbdde1a-f7a9-4628-a520-1537b725da89",
   "metadata": {},
   "outputs": [],
   "source": []
  },
  {
   "cell_type": "code",
   "execution_count": null,
   "id": "brown-topic",
   "metadata": {},
   "outputs": [],
   "source": []
  },
  {
   "cell_type": "markdown",
   "id": "exposed-mother",
   "metadata": {},
   "source": [
    "## Hyperparameter Selection"
   ]
  },
  {
   "cell_type": "markdown",
   "id": "indie-anxiety",
   "metadata": {},
   "source": [
    "##### for DP-Y"
   ]
  },
  {
   "cell_type": "code",
   "execution_count": 94,
   "id": "1b127791-55ce-4ec1-b876-6b5e3237e203",
   "metadata": {},
   "outputs": [
    {
     "name": "stdout",
     "output_type": "stream",
     "text": [
      "max duration: 83.0554428100586\n",
      "total number of data points: 1267\n"
     ]
    }
   ],
   "source": [
    "#import datasets\n",
    "# name = \"SUPPORT\"\n",
    "df_init = gbsg.read_df()\n",
    "_, df = h.event_seperator(df_init) #only non-censored points\n",
    "max_duration = (df[\"duration\"].max())\n",
    "print(f'max duration: {max_duration}')\n",
    "total_number = len(df)\n",
    "print(f'total number of data points: {total_number}')"
   ]
  },
  {
   "cell_type": "code",
   "execution_count": 95,
   "id": "pressing-essex",
   "metadata": {},
   "outputs": [],
   "source": [
    "epsilon = 1\n",
    "bin_length = 6\n",
    "max_time = math.floor(max_duration)"
   ]
  },
  {
   "cell_type": "code",
   "execution_count": 96,
   "id": "21ca6849-dace-4195-b035-06bef70b4a0b",
   "metadata": {},
   "outputs": [],
   "source": [
    "point1 = ((0.25 * max_duration) // bin_length) * bin_length\n",
    "point2 = ((0.50 * max_duration) // bin_length) * bin_length\n",
    "point3 = ((0.75 * max_duration) // bin_length) * bin_length\n",
    "\n",
    "tarr = [point1, point2, point3]"
   ]
  },
  {
   "cell_type": "code",
   "execution_count": 97,
   "id": "605f6287-456e-4b6e-a610-75760dc1b867",
   "metadata": {},
   "outputs": [
    {
     "name": "stdout",
     "output_type": "stream",
     "text": [
      "survival at times: [0.63 0.31 0.09]\n",
      "upper confidence: [0.65, 0.34, 0.11]\n",
      "lower confidence: [0.6, 0.28, 0.08]\n",
      "median: 24 median_ci: [[ 0.5        22.07802963 25.26488686]]\n"
     ]
    }
   ],
   "source": [
    "#info of original dataset\n",
    "survival, upper, lower = ev.confidence_at_time(df, tarr)\n",
    "median, median_ci = ev.median_confidence(df)\n",
    "print(\"survival at times:\", survival)\n",
    "print(\"upper confidence:\", upper)\n",
    "print(\"lower confidence:\", lower)\n",
    "print(\"median:\", median, \"median_ci:\", median_ci)"
   ]
  },
  {
   "cell_type": "code",
   "execution_count": 98,
   "id": "built-program",
   "metadata": {},
   "outputs": [],
   "source": [
    "cmd1 = []\n",
    "p1 = []"
   ]
  },
  {
   "cell_type": "code",
   "execution_count": 99,
   "id": "1ec79adb-81e7-4acc-a52a-ab62506cbbd2",
   "metadata": {},
   "outputs": [],
   "source": [
    "for i in np.arange(100):\n",
    "    x = cdp.CentralizedDPy(df, bin_length, max_time, epsilon)\n",
    "    surr, _, _, _ = x.DP_probs()\n",
    "    # surr_func = cdp._dp_probs(df, bin_length, max_time, epsilon)\n",
    "    p, cmd = ev.hyperparameter_ex(df, surr)\n",
    "    p1 += [p]\n",
    "    cmd1 += [cmd]"
   ]
  },
  {
   "cell_type": "code",
   "execution_count": 100,
   "id": "expired-benchmark",
   "metadata": {},
   "outputs": [
    {
     "name": "stdout",
     "output_type": "stream",
     "text": [
      "cmd: 0.16\n",
      "p-value: 0.0\n"
     ]
    }
   ],
   "source": [
    "# average cmd and average p-value over 5 runs\n",
    "print(f'cmd: {np.around(np.mean(cmd1), 2)}')\n",
    "print(f'p-value: {np.around(np.mean(p1), 2)}')"
   ]
  },
  {
   "cell_type": "markdown",
   "id": "08911538-fca0-45c1-863f-79c4615e853e",
   "metadata": {},
   "source": [
    "##### DP - Matrix"
   ]
  },
  {
   "cell_type": "code",
   "execution_count": 161,
   "id": "fd7d9981-77c7-4666-a31a-a069d131ef11",
   "metadata": {},
   "outputs": [
    {
     "name": "stdout",
     "output_type": "stream",
     "text": [
      "max duration: 355.20001220703125\n",
      "total number of data points: 1103\n"
     ]
    }
   ],
   "source": [
    "#import datasets\n",
    "df_init = metabric.read_df()\n",
    "_, df = h.event_seperator(df_init) #only non-censored points\n",
    "max_duration = (df[\"duration\"].max())\n",
    "print(f'max duration: {max_duration}')\n",
    "total_number = len(df)\n",
    "print(f'total number of data points: {total_number}')"
   ]
  },
  {
   "cell_type": "code",
   "execution_count": 176,
   "id": "98c389c9-0a81-45ad-98ef-053472b1f204",
   "metadata": {},
   "outputs": [],
   "source": [
    "epsilon = 1\n",
    "bin_length = 6\n",
    "max_time = math.floor(max_duration)"
   ]
  },
  {
   "cell_type": "code",
   "execution_count": 177,
   "id": "2e024e14-a285-40e8-8241-be621f56159b",
   "metadata": {},
   "outputs": [],
   "source": [
    "cmd1 = []\n",
    "p1 = []"
   ]
  },
  {
   "cell_type": "code",
   "execution_count": 178,
   "id": "52920a4b-ad0e-4533-a2fa-6244dd71653a",
   "metadata": {},
   "outputs": [],
   "source": [
    "for i in np.arange(100):\n",
    "    surr, _ = cdp.DP_matrix(df, bin_length, max_time, epsilon)\n",
    "    p, cmd = ev.hyperparameter_ex(df, surr)\n",
    "    p1 += [p]\n",
    "    cmd1 += [cmd]"
   ]
  },
  {
   "cell_type": "code",
   "execution_count": 179,
   "id": "b501d1ea-7b79-4dbb-a712-f7f698fad023",
   "metadata": {},
   "outputs": [
    {
     "name": "stdout",
     "output_type": "stream",
     "text": [
      "cmd: 0.04\n",
      "p-value: 0.39\n"
     ]
    }
   ],
   "source": [
    "# average cmd and average p-value over 5 runs\n",
    "print(f'cmd: {np.around(np.mean(cmd1), 2)}')\n",
    "print(f'p-value: {np.around(np.mean(p1), 2)}')"
   ]
  },
  {
   "cell_type": "markdown",
   "id": "certified-personality",
   "metadata": {},
   "source": [
    "##### for DP-Surv"
   ]
  },
  {
   "cell_type": "code",
   "execution_count": 28,
   "id": "ebe71652-78f3-4272-bd21-c9482163ca50",
   "metadata": {},
   "outputs": [
    {
     "name": "stdout",
     "output_type": "stream",
     "text": [
      "max duration: 355.20001220703125\n",
      "total number of data points: 1103\n"
     ]
    }
   ],
   "source": [
    "#import datasets\n",
    "# name = \"SUPPORT\"\n",
    "df_init = metabric.read_df()\n",
    "_, df = h.event_seperator(df_init) #only non-censored points\n",
    "max_duration = (df[\"duration\"].max())\n",
    "print(f'max duration: {max_duration}')\n",
    "total_number = len(df)\n",
    "print(f'total number of data points: {total_number}')"
   ]
  },
  {
   "cell_type": "code",
   "execution_count": 29,
   "id": "noticed-forth",
   "metadata": {},
   "outputs": [],
   "source": [
    "epsilon = 1\n",
    "bin_length = 6\n",
    "max_time = math.floor(max_duration)"
   ]
  },
  {
   "cell_type": "code",
   "execution_count": 30,
   "id": "traditional-logging",
   "metadata": {},
   "outputs": [],
   "source": [
    "point1 = ((0.25 * max_duration) // bin_length) * bin_length\n",
    "point2 = ((0.50 * max_duration) // bin_length) * bin_length\n",
    "point3 = ((0.75 * max_duration) // bin_length) * bin_length\n",
    "\n",
    "tarr = [point1, point2, point3]"
   ]
  },
  {
   "cell_type": "code",
   "execution_count": 31,
   "id": "d013233f-dfc5-45fa-bf77-f57fffb38e24",
   "metadata": {},
   "outputs": [
    {
     "name": "stdout",
     "output_type": "stream",
     "text": [
      "survival at times: [0.51 0.17 0.02]\n",
      "upper confidence: [0.54, 0.19, 0.03]\n",
      "lower confidence: [0.48, 0.14, 0.01]\n",
      "median: 86 median_ci: [[ 0.5        80.73332977 90.1333313 ]]\n"
     ]
    }
   ],
   "source": [
    "survival, upper, lower = ev.confidence_at_time(df, tarr)\n",
    "median, median_ci = ev.median_confidence(df)\n",
    "print(\"survival at times:\", survival)\n",
    "print(\"upper confidence:\", upper)\n",
    "print(\"lower confidence:\", lower)\n",
    "print(\"median:\", median, \"median_ci:\", median_ci)"
   ]
  },
  {
   "cell_type": "code",
   "execution_count": 32,
   "id": "upset-turtle",
   "metadata": {},
   "outputs": [],
   "source": [
    "cmd1, cmd2, cmd3, cmd4 = [], [], [], []\n",
    "p1, p2, p3, p4 = [], [], [], []"
   ]
  },
  {
   "cell_type": "code",
   "execution_count": 33,
   "id": "impressed-royalty",
   "metadata": {
    "scrolled": true
   },
   "outputs": [],
   "source": [
    "for i in np.arange(100):    \n",
    "    c1 = cdp.CentralizedDPS(df, bin_length, max_time, 0.05, epsilon)\n",
    "    surr1, _, _, _ = c1.DP_Surv()\n",
    "    p, cmd = ev.hyperparameter_ex(df, surr1)\n",
    "    p1 +=[p]\n",
    "    cmd1 +=[cmd]\n",
    "\n",
    "    c2 = cdp.CentralizedDPS(df, bin_length, max_time, 0.1, epsilon)\n",
    "    surr2, _, _, _ = c2.DP_Surv()\n",
    "    p, cmd = ev.hyperparameter_ex(df, surr2)\n",
    "    p2 += [p]\n",
    "    cmd2 += [cmd]\n",
    "\n",
    "    c3 = cdp.CentralizedDPS(df, bin_length, max_time, 0.15, epsilon)\n",
    "    surr3, _, _, _ = c3.DP_Surv()\n",
    "    p, cmd = ev.hyperparameter_ex(df, surr3)\n",
    "    p3 += [p]\n",
    "    cmd3 += [cmd]\n",
    "\n",
    "    c4 = cdp.CentralizedDPS(df, bin_length, max_time, 0.20, epsilon)\n",
    "    surr4, _, _, _ = c4.DP_Surv()\n",
    "    p, cmd = ev.hyperparameter_ex(df, surr4)\n",
    "    p4 += [p]\n",
    "    cmd4 += [cmd]\n"
   ]
  },
  {
   "cell_type": "code",
   "execution_count": 34,
   "id": "numerical-trail",
   "metadata": {},
   "outputs": [
    {
     "name": "stdout",
     "output_type": "stream",
     "text": [
      "5%: 0.19\n",
      "10%: 0.02\n",
      "15%: 0.04\n",
      "20%: 0.04\n"
     ]
    }
   ],
   "source": [
    "# average cmd and average p-value over 5 runs\n",
    "print(f'5%: {np.around(np.mean(cmd1), 2)}')\n",
    "print(f'10%: {np.around(np.mean(cmd2), 2)}')\n",
    "print(f'15%: {np.around(np.mean(cmd3), 2)}')\n",
    "print(f'20%: {np.around(np.mean(cmd4), 2)}')"
   ]
  },
  {
   "cell_type": "code",
   "execution_count": 35,
   "id": "26ec8792-8c34-406d-aeb9-c949bf6f7c1d",
   "metadata": {},
   "outputs": [
    {
     "name": "stdout",
     "output_type": "stream",
     "text": [
      "5%: 0.38\n",
      "10%: 0.26\n",
      "15%: 0.21\n",
      "20%: 0.25\n"
     ]
    }
   ],
   "source": [
    "# average cmd and average p-value over 5 runs\n",
    "print(f'5%: {np.around(np.mean(p1), 2)}')\n",
    "print(f'10%: {np.around(np.mean(p2), 2)}')\n",
    "print(f'15%: {np.around(np.mean(p3), 2)}')\n",
    "print(f'20%: {np.around(np.mean(p4), 2)}')"
   ]
  },
  {
   "cell_type": "code",
   "execution_count": null,
   "id": "heated-asthma",
   "metadata": {},
   "outputs": [],
   "source": []
  },
  {
   "cell_type": "markdown",
   "id": "contained-house",
   "metadata": {},
   "source": [
    "## RECONSTRUCTION EXPS"
   ]
  },
  {
   "cell_type": "code",
   "execution_count": 12,
   "id": "banner-cooperation",
   "metadata": {},
   "outputs": [
    {
     "name": "stdout",
     "output_type": "stream",
     "text": [
      "max duration: 83.0554428100586\n",
      "total number of data points: 1267\n"
     ]
    }
   ],
   "source": [
    "#import datasets\n",
    "# name = \"metabric\"\n",
    "df_init = gbsg.read_df()\n",
    "_, df = h.event_seperator(df_init)\n",
    "max_duration = (df[\"duration\"].max())\n",
    "print(f'max duration: {max_duration}')\n",
    "total_number = len(df)\n",
    "print(f'total number of data points: {total_number}')"
   ]
  },
  {
   "cell_type": "code",
   "execution_count": 13,
   "id": "failing-civilian",
   "metadata": {},
   "outputs": [],
   "source": [
    "bin_length = 6\n",
    "max_time = math.floor(max_duration)\n",
    "surr_num = round(max_time / bin_length)"
   ]
  },
  {
   "cell_type": "code",
   "execution_count": 14,
   "id": "equal-prompt",
   "metadata": {},
   "outputs": [],
   "source": [
    "point1 = ((0.25 * max_duration) // bin_length) * bin_length\n",
    "point2 = ((0.50 * max_duration) // bin_length) * bin_length\n",
    "point3 = ((0.75 * max_duration) // bin_length) * bin_length\n",
    "\n",
    "tarr = [point1, point2, point3]"
   ]
  },
  {
   "cell_type": "code",
   "execution_count": 15,
   "id": "frank-knowing",
   "metadata": {},
   "outputs": [
    {
     "name": "stdout",
     "output_type": "stream",
     "text": [
      "for n =2534, cmd=0.25, p=0.0\n",
      "for n =1267, cmd=0.25, p=0.0\n",
      "for n =633.5, cmd=0.25, p=0.0\n"
     ]
    }
   ],
   "source": [
    "\n",
    "p, cmd = ev.recons_ex(df, bin_length, max_time, round(2*total_number))\n",
    "print(f'for n ={2*total_number}, cmd={cmd}, p={p}')\n",
    "\n",
    "p, cmd = ev.recons_ex(df, bin_length, max_time, round(total_number))\n",
    "print(f'for n ={total_number}, cmd={cmd}, p={p}')\n",
    "\n",
    "p, cmd = ev.recons_ex(df, bin_length, max_time, round(0.5*total_number))\n",
    "print(f'for n ={0.5*total_number}, cmd={cmd}, p={p}')\n"
   ]
  },
  {
   "cell_type": "code",
   "execution_count": 117,
   "id": "duplicate-hindu",
   "metadata": {},
   "outputs": [
    {
     "data": {
      "image/png": "[encoded data removed]",
      "text/plain": [
       "<Figure size 432x288 with 1 Axes>"
      ]
     },
     "metadata": {
      "needs_background": "light"
     },
     "output_type": "display_data"
    }
   ],
   "source": [
    "ax = plt.subplot(111)\n",
    "\n",
    "kmf = KaplanMeierFitter()\n",
    "ax = kmf.fit(df[\"duration\"], df[\"event\"], label=f\"Real, n={total_number}\").plot()\n",
    "m = round(kmf.median_survival_time_)\n",
    "\n",
    "ax = kmfr1.plot()\n",
    "ax = kmfr2.plot()\n",
    "# ax = kmfr3.plot()\n",
    "ax = kmfr4.plot()\n",
    "\n",
    "ax.set_title(name)\n",
    "ax.set_xlabel(\"Time (months)\", fontsize=\"large\")\n",
    "ax.set_ylabel(\"Survival Probability\", fontsize=\"large\")\n",
    "leg1 = ax.legend()\n",
    "# leg2 = ax.legend([f\"m={m}, p=1\", f\"m={m1}, p={p1}\", f\"m={m2}, p={p2}\" , f\"m={m3}, p={p3}\", f\"m={m4}, p={p4}\"], loc=\"lower left\")\n",
    "ax.add_artist(leg1)\n",
    "# ax.add_artist(leg2)\n",
    "# plt.savefig(f'{name}-reconstruct-bin{bins_length}.pdf', dpi=300)\n",
    "plt.show()"
   ]
  },
  {
   "cell_type": "code",
   "execution_count": 18,
   "id": "documented-screw",
   "metadata": {},
   "outputs": [
    {
     "data": {
      "image/png": "[encoded data removed]",
      "text/plain": [
       "<Figure size 432x288 with 1 Axes>"
      ]
     },
     "metadata": {
      "needs_background": "light"
     },
     "output_type": "display_data"
    }
   ],
   "source": [
    "# heatmapplot\n",
    "# https://matplotlib.org/3.4.3/gallery/images_contours_and_fields/image_annotated_heatmap.html#sphx-glr-gallery-images-contours-and-fields-image-annotated-heatmap-py\n",
    "bins = [\"b=2\", \"b=4\", \"b=6\", \"b=8\"]\n",
    "# frac = [\"5%\", \"10%\", \"15%\", \"20%\"]\n",
    "frac = [\"2000\", \"200\", \"100\"]\n",
    "valm = np.array([[52, 52, 54, 56], \n",
    "                 [50, 52, 54, 56], \n",
    "                 [50, 52, 54, 56] \n",
    "                ])\n",
    "valm = valm -50\n",
    "valp = np.array([[0.49, 0.15, 0.03, 0.01], \n",
    "                 [0.84, 0.65, 0.44, 0.39], \n",
    "                 [0.84, 0.64, 0.44, 0.39]\n",
    "    \n",
    "])\n",
    "fig, ax = plt.subplots()\n",
    "im = ax.imshow(valm)\n",
    "# orig_map=plt.cm.get_cmap('viridis')\n",
    "# reversed_map = orig_map.reversed()\n",
    "# im = ax.imshow(valp, cmap = reversed_map)\n",
    "\n",
    "ax.set_xticks(np.arange(len(bins)))\n",
    "ax.set_yticks(np.arange(len(frac)))\n",
    "# ... and label them with the respective list entries\n",
    "ax.set_xticklabels(bins)\n",
    "ax.set_yticklabels(frac)\n",
    "\n",
    "plt.setp(ax.get_xticklabels(), rotation=45, ha=\"right\",\n",
    "         rotation_mode=\"anchor\")\n",
    "# Loop over data dimensions and create text annotations.\n",
    "for i in range(len(frac)):\n",
    "    for j in range(len(bins)):\n",
    "        text = ax.text(j, i, valm[i, j],\n",
    "                       ha=\"center\", va=\"center\", color=\"w\")\n",
    "\n",
    "ax.set_title(f'{name} Reconstruction, Median Survival Difference')\n",
    "fig.tight_layout()\n",
    "# plt.savefig(f'figs/{name}-m-reconstruct.pdf', dpi=300, bbox_inches=\"tight\")\n",
    "plt.show()\n"
   ]
  },
  {
   "cell_type": "code",
   "execution_count": null,
   "id": "latin-marker",
   "metadata": {},
   "outputs": [],
   "source": []
  },
  {
   "cell_type": "code",
   "execution_count": null,
   "id": "experienced-domestic",
   "metadata": {},
   "outputs": [],
   "source": []
  }
 ],
 "metadata": {
  "kernelspec": {
   "display_name": "Python [conda env:kmc] *",
   "language": "python",
   "name": "conda-env-kmc-py"
  },
  "language_info": {
   "codemirror_mode": {
    "name": "ipython",
    "version": 3
   },
   "file_extension": ".py",
   "mimetype": "text/x-python",
   "name": "python",
   "nbconvert_exporter": "python",
   "pygments_lexer": "ipython3",
   "version": "3.9.18"
  }
 },
 "nbformat": 4,
 "nbformat_minor": 5
}
